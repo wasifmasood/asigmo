{
 "cells": [
  {
   "cell_type": "code",
   "execution_count": 1,
   "metadata": {},
   "outputs": [],
   "source": [
    "import pandas as pd\n",
    "import numpy as np\n",
    "import matplotlib.pyplot as plt\n",
    "from sklearn.cluster import SpectralClustering\n",
    "from sklearn.preprocessing import LabelEncoder"
   ]
  },
  {
   "cell_type": "code",
   "execution_count": 2,
   "metadata": {},
   "outputs": [],
   "source": [
    "column_names = ['sepal_length', 'sepal_width', 'petal_length', 'petal_width', 'class']"
   ]
  },
  {
   "cell_type": "code",
   "execution_count": 4,
   "metadata": {},
   "outputs": [],
   "source": [
    "#abo_path = 'D:/Users/masoodw/ML_FINANCE/asigmo/github/asigmo/data/boston_housing/Realestate.xlsx'\n",
    "#p_df_raw = pd.read_excel(abo_path) #, names=column_names)\n",
    "\n",
    "abo_path = 'D:/Users/masoodw/ML_FINANCE/asigmo/github/asigmo/data/Iris/iris.data'\n",
    "p_df_raw = pd.read_csv(abo_path, sep=',', encoding=\"UTF-8\", names=column_names)"
   ]
  },
  {
   "cell_type": "code",
   "execution_count": 5,
   "metadata": {},
   "outputs": [],
   "source": [
    "#p_df_raw.columns = column_names"
   ]
  },
  {
   "cell_type": "code",
   "execution_count": 6,
   "metadata": {},
   "outputs": [
    {
     "data": {
      "text/html": [
       "<div>\n",
       "<style scoped>\n",
       "    .dataframe tbody tr th:only-of-type {\n",
       "        vertical-align: middle;\n",
       "    }\n",
       "\n",
       "    .dataframe tbody tr th {\n",
       "        vertical-align: top;\n",
       "    }\n",
       "\n",
       "    .dataframe thead th {\n",
       "        text-align: right;\n",
       "    }\n",
       "</style>\n",
       "<table border=\"1\" class=\"dataframe\">\n",
       "  <thead>\n",
       "    <tr style=\"text-align: right;\">\n",
       "      <th></th>\n",
       "      <th>sepal_length</th>\n",
       "      <th>sepal_width</th>\n",
       "      <th>petal_length</th>\n",
       "      <th>petal_width</th>\n",
       "      <th>class</th>\n",
       "    </tr>\n",
       "  </thead>\n",
       "  <tbody>\n",
       "    <tr>\n",
       "      <th>0</th>\n",
       "      <td>5.1</td>\n",
       "      <td>3.5</td>\n",
       "      <td>1.4</td>\n",
       "      <td>0.2</td>\n",
       "      <td>Iris-setosa</td>\n",
       "    </tr>\n",
       "    <tr>\n",
       "      <th>1</th>\n",
       "      <td>4.9</td>\n",
       "      <td>3.0</td>\n",
       "      <td>1.4</td>\n",
       "      <td>0.2</td>\n",
       "      <td>Iris-setosa</td>\n",
       "    </tr>\n",
       "    <tr>\n",
       "      <th>2</th>\n",
       "      <td>4.7</td>\n",
       "      <td>3.2</td>\n",
       "      <td>1.3</td>\n",
       "      <td>0.2</td>\n",
       "      <td>Iris-setosa</td>\n",
       "    </tr>\n",
       "    <tr>\n",
       "      <th>3</th>\n",
       "      <td>4.6</td>\n",
       "      <td>3.1</td>\n",
       "      <td>1.5</td>\n",
       "      <td>0.2</td>\n",
       "      <td>Iris-setosa</td>\n",
       "    </tr>\n",
       "    <tr>\n",
       "      <th>4</th>\n",
       "      <td>5.0</td>\n",
       "      <td>3.6</td>\n",
       "      <td>1.4</td>\n",
       "      <td>0.2</td>\n",
       "      <td>Iris-setosa</td>\n",
       "    </tr>\n",
       "  </tbody>\n",
       "</table>\n",
       "</div>"
      ],
      "text/plain": [
       "   sepal_length  sepal_width  petal_length  petal_width        class\n",
       "0           5.1          3.5           1.4          0.2  Iris-setosa\n",
       "1           4.9          3.0           1.4          0.2  Iris-setosa\n",
       "2           4.7          3.2           1.3          0.2  Iris-setosa\n",
       "3           4.6          3.1           1.5          0.2  Iris-setosa\n",
       "4           5.0          3.6           1.4          0.2  Iris-setosa"
      ]
     },
     "execution_count": 6,
     "metadata": {},
     "output_type": "execute_result"
    }
   ],
   "source": [
    "p_df_raw.head()"
   ]
  },
  {
   "cell_type": "code",
   "execution_count": 53,
   "metadata": {},
   "outputs": [
    {
     "data": {
      "text/plain": [
       "No                                        0\n",
       "X1 transaction date                       0\n",
       "X2 house age                              0\n",
       "X3 distance to the nearest MRT station    0\n",
       "X4 number of convenience stores           0\n",
       "X5 latitude                               0\n",
       "X6 longitude                              0\n",
       "Y house price of unit area                0\n",
       "dtype: int64"
      ]
     },
     "execution_count": 53,
     "metadata": {},
     "output_type": "execute_result"
    }
   ],
   "source": [
    "p_df_raw.isna().sum()"
   ]
  },
  {
   "cell_type": "code",
   "execution_count": 8,
   "metadata": {},
   "outputs": [],
   "source": [
    "df_X = p_df_raw.drop(\"class\", axis=1)\n",
    "df_y = LabelEncoder().fit_transform(list(p_df_raw[\"class\"]))     "
   ]
  },
  {
   "cell_type": "code",
   "execution_count": 9,
   "metadata": {},
   "outputs": [
    {
     "data": {
      "text/plain": [
       "array([0, 0, 0, 0, 0, 0, 0, 0, 0, 0, 0, 0, 0, 0, 0, 0, 0, 0, 0, 0, 0, 0,\n",
       "       0, 0, 0, 0, 0, 0, 0, 0, 0, 0, 0, 0, 0, 0, 0, 0, 0, 0, 0, 0, 0, 0,\n",
       "       0, 0, 0, 0, 0, 0, 1, 1, 1, 1, 1, 1, 1, 1, 1, 1, 1, 1, 1, 1, 1, 1,\n",
       "       1, 1, 1, 1, 1, 1, 1, 1, 1, 1, 1, 1, 1, 1, 1, 1, 1, 1, 1, 1, 1, 1,\n",
       "       1, 1, 1, 1, 1, 1, 1, 1, 1, 1, 1, 1, 2, 2, 2, 2, 2, 2, 2, 2, 2, 2,\n",
       "       2, 2, 2, 2, 2, 2, 2, 2, 2, 2, 2, 2, 2, 2, 2, 2, 2, 2, 2, 2, 2, 2,\n",
       "       2, 2, 2, 2, 2, 2, 2, 2, 2, 2, 2, 2, 2, 2, 2, 2, 2, 2], dtype=int64)"
      ]
     },
     "execution_count": 9,
     "metadata": {},
     "output_type": "execute_result"
    }
   ],
   "source": [
    "df_y"
   ]
  },
  {
   "cell_type": "code",
   "execution_count": 16,
   "metadata": {},
   "outputs": [],
   "source": [
    "clustering = SpectralClustering(n_clusters=2, assign_labels=\"discretize\", random_state=0, n_init=20).fit(df_X)"
   ]
  },
  {
   "cell_type": "code",
   "execution_count": 17,
   "metadata": {},
   "outputs": [
    {
     "data": {
      "text/plain": [
       "array([1, 1, 1, 1, 1, 1, 1, 1, 1, 1, 1, 1, 1, 1, 1, 1, 1, 1, 1, 1, 1, 1,\n",
       "       1, 1, 1, 1, 1, 1, 1, 1, 1, 1, 1, 1, 1, 1, 1, 1, 1, 1, 1, 1, 1, 1,\n",
       "       1, 1, 1, 1, 1, 1, 0, 0, 0, 0, 0, 0, 0, 0, 0, 0, 0, 0, 0, 0, 0, 0,\n",
       "       0, 0, 0, 0, 0, 0, 0, 0, 0, 0, 0, 0, 0, 0, 0, 0, 0, 0, 0, 0, 0, 0,\n",
       "       0, 0, 0, 0, 0, 0, 0, 0, 0, 0, 0, 0, 0, 0, 0, 0, 0, 0, 0, 0, 0, 0,\n",
       "       0, 0, 0, 0, 0, 0, 0, 0, 0, 0, 0, 0, 0, 0, 0, 0, 0, 0, 0, 0, 0, 0,\n",
       "       0, 0, 0, 0, 0, 0, 0, 0, 0, 0, 0, 0, 0, 0, 0, 0, 0, 0], dtype=int64)"
      ]
     },
     "execution_count": 17,
     "metadata": {},
     "output_type": "execute_result"
    }
   ],
   "source": [
    "clustering.labels_"
   ]
  },
  {
   "cell_type": "code",
   "execution_count": 22,
   "metadata": {},
   "outputs": [
    {
     "data": {
      "text/plain": [
       "array([[1.00000000e+00, 7.48263568e-01, 7.71051586e-01, ...,\n",
       "        2.30082059e-09, 4.03840951e-10, 3.59908895e-08],\n",
       "       [7.48263568e-01, 1.00000000e+00, 9.13931185e-01, ...,\n",
       "        1.62136087e-09, 2.15082380e-10, 3.22418674e-08],\n",
       "       [7.71051586e-01, 9.13931185e-01, 1.00000000e+00, ...,\n",
       "        3.65410404e-10, 6.16221335e-11, 9.42405852e-09],\n",
       "       ...,\n",
       "       [2.30082059e-09, 1.62136087e-09, 3.65410404e-10, ...,\n",
       "        1.00000000e+00, 6.83861409e-01, 6.63650250e-01],\n",
       "       [4.03840951e-10, 2.15082380e-10, 6.16221335e-11, ...,\n",
       "        6.83861409e-01, 1.00000000e+00, 5.54327285e-01],\n",
       "       [3.59908895e-08, 3.22418674e-08, 9.42405852e-09, ...,\n",
       "        6.63650250e-01, 5.54327285e-01, 1.00000000e+00]])"
      ]
     },
     "execution_count": 22,
     "metadata": {},
     "output_type": "execute_result"
    }
   ],
   "source": [
    "clustering.affinity_matrix_"
   ]
  },
  {
   "cell_type": "markdown",
   "metadata": {},
   "source": [
    "### Internal Measures"
   ]
  },
  {
   "cell_type": "code",
   "execution_count": 18,
   "metadata": {},
   "outputs": [],
   "source": [
    "from sklearn import metrics"
   ]
  },
  {
   "cell_type": "code",
   "execution_count": 19,
   "metadata": {},
   "outputs": [
    {
     "data": {
      "text/plain": [
       "(0.6863930543445408, 0.3835952094491425)"
      ]
     },
     "execution_count": 19,
     "metadata": {},
     "output_type": "execute_result"
    }
   ],
   "source": [
    "# Perfect labelings are both homogeneous and complete, hence have score 1.0:\n",
    "# Labelings that assign all classes members to the same clusters are complete be not homogeneous\n",
    "# Labelings that have pure clusters with members coming from the same classes are homogeneous but un-necessary splits harms completeness\n",
    "# If classes members are completely split across different clusters, the assignment is totally incomplete\n",
    "\n",
    "sill = metrics.silhouette_score(df_X, clustering.labels_, metric='euclidean', sample_size=None)  ### best score is 1\n",
    "db = metrics.davies_bouldin_score(df_X, clustering.labels_) ### best score is 0\n",
    "sill, db"
   ]
  },
  {
   "cell_type": "markdown",
   "metadata": {},
   "source": [
    "### External Measures"
   ]
  },
  {
   "cell_type": "code",
   "execution_count": 20,
   "metadata": {},
   "outputs": [],
   "source": [
    "# A clustering result satisfies homogeneity if all of its clusters contain only data points which are members of a single class.\n",
    "# A clustering result satisfies completeness if all the data points that are members of a given class are elements of the same cluster.\n",
    "# Both scores have positive values between 0.0 and 1.0, larger values being desirable.\n",
    "# The V-measure is the harmonic mean between homogeneity and completeness:"
   ]
  },
  {
   "cell_type": "code",
   "execution_count": 21,
   "metadata": {},
   "outputs": [
    {
     "name": "stdout",
     "output_type": "stream",
     "text": [
      "V_score\n",
      "(0.5793801642856945, 0.9999999999999997, 0.7336804366512104)\n",
      "Accuracy\n",
      "0.0\n",
      "Confusion Matrix\n",
      "[[ 0 50  0]\n",
      " [50  0  0]\n",
      " [50  0  0]]\n",
      "Confusion Report\n",
      "              precision    recall  f1-score   support\n",
      "\n",
      "           0       0.00      0.00      0.00      50.0\n",
      "           1       0.00      0.00      0.00      50.0\n",
      "           2       0.00      0.00      0.00      50.0\n",
      "\n",
      "    accuracy                           0.00     150.0\n",
      "   macro avg       0.00      0.00      0.00     150.0\n",
      "weighted avg       0.00      0.00      0.00     150.0\n",
      "\n",
      "f1 score\n",
      "0.0\n"
     ]
    },
    {
     "name": "stderr",
     "output_type": "stream",
     "text": [
      "c:\\programdata\\anaconda3\\envs\\asigmo\\lib\\site-packages\\sklearn\\metrics\\_classification.py:1221: UndefinedMetricWarning: Precision and F-score are ill-defined and being set to 0.0 in labels with no predicted samples. Use `zero_division` parameter to control this behavior.\n",
      "  _warn_prf(average, modifier, msg_start, len(result))\n"
     ]
    }
   ],
   "source": [
    "print('V_score')\n",
    "print(metrics.homogeneity_completeness_v_measure(df_y, clustering.labels_))\n",
    "print('Accuracy')\n",
    "print(metrics.accuracy_score(df_y, clustering.labels_))\n",
    "print('Confusion Matrix')\n",
    "print(metrics.confusion_matrix(df_y, clustering.labels_))\n",
    "print('Confusion Report')\n",
    "print(metrics.classification_report(df_y, clustering.labels_))\n",
    "print('f1 score')\n",
    "print(metrics.f1_score(df_y, clustering.labels_, average='weighted'))"
   ]
  },
  {
   "cell_type": "markdown",
   "metadata": {},
   "source": [
    "### Grid Parameter Search"
   ]
  },
  {
   "cell_type": "code",
   "execution_count": 23,
   "metadata": {},
   "outputs": [],
   "source": [
    "internal_measures = []\n",
    "for k in range(2, 35):\n",
    "    clustering = SpectralClustering(n_clusters=k, assign_labels=\"discretize\", random_state=0, n_init=20).fit(df_X)\n",
    "    v_measure = metrics.homogeneity_completeness_v_measure(df_y, clustering.labels_)[2]\n",
    "    silhouette = metrics.silhouette_score(df_X, clustering.labels_, metric='euclidean', sample_size=None)\n",
    "    internal_measures.append([k,v_measure,silhouette])    "
   ]
  },
  {
   "cell_type": "code",
   "execution_count": 24,
   "metadata": {},
   "outputs": [
    {
     "data": {
      "text/plain": [
       "[[2, 0.7336804366512104, 0.6863930543445408],\n",
       " [3, 0.7660355440487252, 0.5509296349732904],\n",
       " [4, 0.6924615173878584, 0.4996636428548515],\n",
       " [5, 0.6939910028645424, 0.4794165195023183],\n",
       " [6, 0.636835549420609, 0.34896498869492165],\n",
       " [7, 0.6234775202002705, 0.3299227793501306],\n",
       " [8, 0.6576810642193917, 0.3453464363967508],\n",
       " [9, 0.6352591349436703, 0.34578931440110533],\n",
       " [10, 0.6168057548200682, 0.33834722297210446],\n",
       " [11, 0.5736386908866958, 0.2564320604797245],\n",
       " [12, 0.5965101989376439, 0.30738686804642085],\n",
       " [13, 0.5530818524717108, 0.26016074392879274],\n",
       " [14, 0.5315213011413568, 0.29115540610886287],\n",
       " [15, 0.515277067299817, 0.24472887086441483],\n",
       " [16, 0.5135299594018452, 0.24039682401597692],\n",
       " [17, 0.49927062463674154, 0.23512643218503315],\n",
       " [18, 0.5110443590974424, 0.19832586685219564],\n",
       " [19, 0.503826314670202, 0.24304316721024444],\n",
       " [20, 0.47327759652986257, 0.21787514662741156],\n",
       " [21, 0.49719572014961194, 0.23513462173633012],\n",
       " [22, 0.4721159897967986, 0.232068614425165],\n",
       " [23, 0.4753404051281797, 0.20894307218383973],\n",
       " [24, 0.4710512286750451, 0.21115659184103522],\n",
       " [25, 0.46935300910760025, 0.2294137132225372],\n",
       " [26, 0.4767006712092236, 0.2340484063016249],\n",
       " [27, 0.48385862088864134, 0.19105775434555683],\n",
       " [28, 0.46514563135020004, 0.19354334708885534],\n",
       " [29, 0.46859134030830774, 0.22444945180564757],\n",
       " [30, 0.45739073740031805, 0.22894964877439405],\n",
       " [31, 0.4512126884633513, 0.17587303593031786],\n",
       " [32, 0.4444350293737524, 0.1686388021782235],\n",
       " [33, 0.4525965832210764, 0.18150757152292418],\n",
       " [34, 0.4664997057136559, 0.16122572819057662]]"
      ]
     },
     "execution_count": 24,
     "metadata": {},
     "output_type": "execute_result"
    }
   ],
   "source": [
    "internal_measures"
   ]
  },
  {
   "cell_type": "code",
   "execution_count": null,
   "metadata": {},
   "outputs": [],
   "source": [
    "max(internal_measures[:1])"
   ]
  },
  {
   "cell_type": "code",
   "execution_count": 27,
   "metadata": {},
   "outputs": [],
   "source": [
    "max_v_measure =np.argmax(internal_measures[:1])\n",
    "optimum_clusters = internal_measures[max_v_measure][0]\n",
    "optimum_clusters\n",
    "clustering = SpectralClustering(n_clusters=2, assign_labels=\"discretize\", random_state=0, n_init=20).fit(df_X)"
   ]
  },
  {
   "cell_type": "code",
   "execution_count": 28,
   "metadata": {},
   "outputs": [
    {
     "name": "stdout",
     "output_type": "stream",
     "text": [
      "V_score\n",
      "(0.5793801642856945, 0.9999999999999997, 0.7336804366512104)\n",
      "Accuracy\n",
      "0.0\n",
      "Confusion Matrix\n",
      "[[ 0 50  0]\n",
      " [50  0  0]\n",
      " [50  0  0]]\n",
      "Confusion Report\n",
      "              precision    recall  f1-score   support\n",
      "\n",
      "           0       0.00      0.00      0.00      50.0\n",
      "           1       0.00      0.00      0.00      50.0\n",
      "           2       0.00      0.00      0.00      50.0\n",
      "\n",
      "    accuracy                           0.00     150.0\n",
      "   macro avg       0.00      0.00      0.00     150.0\n",
      "weighted avg       0.00      0.00      0.00     150.0\n",
      "\n",
      "f1 score\n",
      "0.0\n"
     ]
    },
    {
     "name": "stderr",
     "output_type": "stream",
     "text": [
      "c:\\programdata\\anaconda3\\envs\\asigmo\\lib\\site-packages\\sklearn\\metrics\\_classification.py:1221: UndefinedMetricWarning: Precision and F-score are ill-defined and being set to 0.0 in labels with no predicted samples. Use `zero_division` parameter to control this behavior.\n",
      "  _warn_prf(average, modifier, msg_start, len(result))\n"
     ]
    }
   ],
   "source": [
    "print('V_score')\n",
    "print(metrics.homogeneity_completeness_v_measure(df_y, clustering.labels_))\n",
    "print('Accuracy')\n",
    "print(metrics.accuracy_score(df_y, clustering.labels_))\n",
    "print('Confusion Matrix')\n",
    "print(metrics.confusion_matrix(df_y, clustering.labels_))\n",
    "print('Confusion Report')\n",
    "print(metrics.classification_report(df_y, clustering.labels_))\n",
    "print('f1 score')\n",
    "print(metrics.f1_score(df_y, clustering.labels_, average='weighted'))"
   ]
  },
  {
   "cell_type": "markdown",
   "metadata": {},
   "source": [
    "### Choose a different kernel now"
   ]
  },
  {
   "cell_type": "code",
   "execution_count": null,
   "metadata": {},
   "outputs": [],
   "source": []
  }
 ],
 "metadata": {
  "kernelspec": {
   "display_name": "Python 3",
   "language": "python",
   "name": "python3"
  },
  "language_info": {
   "codemirror_mode": {
    "name": "ipython",
    "version": 3
   },
   "file_extension": ".py",
   "mimetype": "text/x-python",
   "name": "python",
   "nbconvert_exporter": "python",
   "pygments_lexer": "ipython3",
   "version": "3.7.0"
  }
 },
 "nbformat": 4,
 "nbformat_minor": 4
}
